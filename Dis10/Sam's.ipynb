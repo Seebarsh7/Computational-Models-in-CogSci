{
 "cells": [
  {
   "cell_type": "code",
   "execution_count": 15,
   "metadata": {},
   "outputs": [],
   "source": [
    "import numpy as np\n",
    "import math\n",
    "from math import log, sqrt, exp\n",
    "import scipy.stats\n",
    "import pandas as pd"
   ]
  },
  {
   "cell_type": "markdown",
   "metadata": {},
   "source": [
    "## Function to calculate the likelihood of data given hypothesis"
   ]
  },
  {
   "cell_type": "code",
   "execution_count": 16,
   "metadata": {},
   "outputs": [],
   "source": [
    "# Template for Assignment 9\n",
    "\n",
    "import numpy as np\n",
    "from math import log, sqrt\n",
    "import scipy.stats\n",
    "\n",
    "def log_likelihood(n1, n2, a, W):\n",
    "    # this function takes a numpy array for n1, n2, and the accuracy (0/1), whether they answerd correctly\n",
    "    # as well as W, the hypothesis\n",
    "    # and returns the *log* likelihood of the responses, log P(acc | n1, n2, W)\n",
    "\n",
    "    assert(len(n1) == len(n2) == len(a))\n",
    "\n",
    "    ll = 0.0\n",
    "    for i in range(len(n1)):\n",
    "        p = 1.0 - scipy.stats.norm.cdf(0, loc=abs(n1[i]-n2[i]), scale=W*sqrt(n1[i]**2 + n2[i]**2)) # the probability of answering correctly\n",
    "        if a[i] == 1:\n",
    "            ll += log(p) if p > 0.0 else float(\"-inf\")\n",
    "        elif a[i] == 0:\n",
    "            ll += log(1.0-p) if p < 1.0 else float(\"-inf\")\n",
    "        else:\n",
    "            assert(False, \"a[i] must be 0 or 1\")\n",
    "    return ll\n",
    "\n",
    "\n",
    "##\n",
    "## Your code goes here ###\n",
    "##\n"
   ]
  },
  {
   "cell_type": "markdown",
   "metadata": {},
   "source": [
    "## Reading data file"
   ]
  },
  {
   "cell_type": "code",
   "execution_count": 13,
   "metadata": {},
   "outputs": [],
   "source": [
    "data = pd.read_csv(\"Assignment9-data.csv\")"
   ]
  },
  {
   "cell_type": "code",
   "execution_count": 4,
   "metadata": {},
   "outputs": [
    {
     "data": {
      "text/html": [
       "<div>\n",
       "<style scoped>\n",
       "    .dataframe tbody tr th:only-of-type {\n",
       "        vertical-align: middle;\n",
       "    }\n",
       "\n",
       "    .dataframe tbody tr th {\n",
       "        vertical-align: top;\n",
       "    }\n",
       "\n",
       "    .dataframe thead th {\n",
       "        text-align: right;\n",
       "    }\n",
       "</style>\n",
       "<table border=\"1\" class=\"dataframe\">\n",
       "  <thead>\n",
       "    <tr style=\"text-align: right;\">\n",
       "      <th></th>\n",
       "      <th>correct</th>\n",
       "      <th>n1</th>\n",
       "      <th>n2</th>\n",
       "    </tr>\n",
       "  </thead>\n",
       "  <tbody>\n",
       "    <tr>\n",
       "      <th>0</th>\n",
       "      <td>1</td>\n",
       "      <td>5</td>\n",
       "      <td>7</td>\n",
       "    </tr>\n",
       "    <tr>\n",
       "      <th>1</th>\n",
       "      <td>1</td>\n",
       "      <td>4</td>\n",
       "      <td>8</td>\n",
       "    </tr>\n",
       "    <tr>\n",
       "      <th>2</th>\n",
       "      <td>1</td>\n",
       "      <td>1</td>\n",
       "      <td>13</td>\n",
       "    </tr>\n",
       "    <tr>\n",
       "      <th>3</th>\n",
       "      <td>1</td>\n",
       "      <td>3</td>\n",
       "      <td>1</td>\n",
       "    </tr>\n",
       "    <tr>\n",
       "      <th>4</th>\n",
       "      <td>1</td>\n",
       "      <td>1</td>\n",
       "      <td>2</td>\n",
       "    </tr>\n",
       "    <tr>\n",
       "      <th>5</th>\n",
       "      <td>1</td>\n",
       "      <td>2</td>\n",
       "      <td>1</td>\n",
       "    </tr>\n",
       "    <tr>\n",
       "      <th>6</th>\n",
       "      <td>1</td>\n",
       "      <td>2</td>\n",
       "      <td>1</td>\n",
       "    </tr>\n",
       "    <tr>\n",
       "      <th>7</th>\n",
       "      <td>1</td>\n",
       "      <td>1</td>\n",
       "      <td>11</td>\n",
       "    </tr>\n",
       "    <tr>\n",
       "      <th>8</th>\n",
       "      <td>0</td>\n",
       "      <td>9</td>\n",
       "      <td>5</td>\n",
       "    </tr>\n",
       "    <tr>\n",
       "      <th>9</th>\n",
       "      <td>1</td>\n",
       "      <td>3</td>\n",
       "      <td>2</td>\n",
       "    </tr>\n",
       "  </tbody>\n",
       "</table>\n",
       "</div>"
      ],
      "text/plain": [
       "   correct  n1  n2\n",
       "0        1   5   7\n",
       "1        1   4   8\n",
       "2        1   1  13\n",
       "3        1   3   1\n",
       "4        1   1   2\n",
       "5        1   2   1\n",
       "6        1   2   1\n",
       "7        1   1  11\n",
       "8        0   9   5\n",
       "9        1   3   2"
      ]
     },
     "execution_count": 4,
     "metadata": {},
     "output_type": "execute_result"
    }
   ],
   "source": [
    "data.head(10)"
   ]
  },
  {
   "cell_type": "code",
   "execution_count": 5,
   "metadata": {},
   "outputs": [
    {
     "data": {
      "text/plain": [
       "(3546, 3)"
      ]
     },
     "execution_count": 5,
     "metadata": {},
     "output_type": "execute_result"
    }
   ],
   "source": [
    "data.shape"
   ]
  },
  {
   "cell_type": "code",
   "execution_count": 6,
   "metadata": {},
   "outputs": [
    {
     "data": {
      "text/plain": [
       "0    5\n",
       "1    4\n",
       "2    1\n",
       "3    3\n",
       "4    1\n",
       "Name: n1, dtype: int64"
      ]
     },
     "execution_count": 6,
     "metadata": {},
     "output_type": "execute_result"
    }
   ],
   "source": [
    "data['n1'].head()"
   ]
  },
  {
   "cell_type": "markdown",
   "metadata": {},
   "source": [
    "Computing Log Likelihood"
   ]
  },
  {
   "cell_type": "code",
   "execution_count": 14,
   "metadata": {},
   "outputs": [
    {
     "data": {
      "text/plain": [
       "-1801.1498081080333"
      ]
     },
     "execution_count": 14,
     "metadata": {},
     "output_type": "execute_result"
    }
   ],
   "source": [
    "log_likelihood(data['n1'], data['n2'], data['correct'], 0.9)"
   ]
  },
  {
   "cell_type": "markdown",
   "metadata": {},
   "source": [
    "# Metroplis (Markov Chain Monte Carlo) Algorithm"
   ]
  },
  {
   "cell_type": "markdown",
   "metadata": {},
   "source": [
    "Why Markov chain ?"
   ]
  },
  {
   "cell_type": "markdown",
   "metadata": {},
   "source": [
    "Why Monte Carlo?"
   ]
  },
  {
   "cell_type": "markdown",
   "metadata": {},
   "source": [
    "Why Dependent Sampling ?"
   ]
  },
  {
   "cell_type": "markdown",
   "metadata": {},
   "source": [
    "A sampler is an algorithm that moves around the set of hypotheses such that the time (number of samples) it spends on H is proportional to P(H|D)."
   ]
  },
  {
   "cell_type": "code",
   "execution_count": 17,
   "metadata": {},
   "outputs": [],
   "source": [
    "def log_prior(W) :\n",
    "    return log(exp(-W))"
   ]
  },
  {
   "cell_type": "code",
   "execution_count": 9,
   "metadata": {},
   "outputs": [
    {
     "data": {
      "text/plain": [
       "-0.20000000000000004"
      ]
     },
     "execution_count": 9,
     "metadata": {},
     "output_type": "execute_result"
    }
   ],
   "source": [
    "log_prior(0.2)"
   ]
  },
  {
   "cell_type": "code",
   "execution_count": 18,
   "metadata": {},
   "outputs": [],
   "source": [
    "def log_posterior(W):\n",
    "    return log_prior(W) + log_likelihood(data['n1'], data['n2'], data['correct'], W)"
   ]
  },
  {
   "cell_type": "code",
   "execution_count": 11,
   "metadata": {},
   "outputs": [
    {
     "data": {
      "text/plain": [
       "-1788.962122891839"
      ]
     },
     "execution_count": 11,
     "metadata": {},
     "output_type": "execute_result"
    }
   ],
   "source": [
    "log_posterior(.5)"
   ]
  },
  {
   "cell_type": "code",
   "execution_count": null,
   "metadata": {},
   "outputs": [],
   "source": []
  },
  {
   "cell_type": "markdown",
   "metadata": {},
   "source": [
    "### Sampling"
   ]
  },
  {
   "cell_type": "markdown",
   "metadata": {},
   "source": [
    "Inititate :"
   ]
  },
  {
   "cell_type": "code",
   "execution_count": 20,
   "metadata": {},
   "outputs": [],
   "source": [
    "hypothesis_list = []\n",
    "hypothesis_list.append(0)"
   ]
  },
  {
   "cell_type": "code",
   "execution_count": 26,
   "metadata": {},
   "outputs": [
    {
     "name": "stdout",
     "output_type": "stream",
     "text": [
      "W is :  0.6439833718005328\n",
      "W' is :  0.6435176523715755\n",
      "W is :  0.6435176523715755\n",
      "W' is :  0.6821138332088174\n",
      "W is :  0.6435176523715755\n",
      "W' is :  0.7736423473955245\n",
      "W is :  0.6435176523715755\n",
      "W' is :  0.5780948323951187\n",
      "W is :  0.6435176523715755\n",
      "W' is :  0.44983764784748437\n",
      "W is :  0.6435176523715755\n",
      "W' is :  0.8096487363165488\n",
      "W is :  0.6435176523715755\n",
      "W' is :  0.7002333978819525\n",
      "W is :  0.6435176523715755\n",
      "W' is :  0.7585240992840554\n",
      "W is :  0.6435176523715755\n",
      "W' is :  0.42664433113067124\n",
      "W is :  0.6435176523715755\n",
      "W' is :  0.7226020972280884\n",
      "W is :  0.6435176523715755\n",
      "W' is :  0.4537860437634053\n",
      "W is :  0.6435176523715755\n",
      "W' is :  0.6863547071297418\n",
      "W is :  0.6435176523715755\n",
      "W' is :  0.6396287816426159\n",
      "W is :  0.6396287816426159\n",
      "W' is :  0.659931933040712\n",
      "W is :  0.6396287816426159\n",
      "W' is :  0.4788226775466295\n",
      "W is :  0.6396287816426159\n",
      "W' is :  0.6141919555875712\n",
      "W is :  0.6141919555875712\n",
      "W' is :  0.5756128891492281\n",
      "W is :  0.6141919555875712\n",
      "W' is :  0.6040057251797871\n",
      "W is :  0.6040057251797871\n",
      "W' is :  0.6455590041061873\n",
      "W is :  0.6455590041061873\n",
      "W' is :  0.6377427484847275\n",
      "W is :  0.6377427484847275\n",
      "W' is :  0.5997850504447835\n",
      "W is :  0.6377427484847275\n",
      "W' is :  0.5385242469595801\n",
      "W is :  0.6377427484847275\n",
      "W' is :  0.6545975931920633\n",
      "W is :  0.6377427484847275\n",
      "W' is :  0.451439826004141\n",
      "W is :  0.6377427484847275\n",
      "W' is :  0.6554518284613542\n",
      "W is :  0.6377427484847275\n",
      "W' is :  0.6353314497367447\n",
      "W is :  0.6353314497367447\n",
      "W' is :  0.7471625090069136\n",
      "W is :  0.6353314497367447\n",
      "W' is :  0.4426010514790407\n",
      "W is :  0.6353314497367447\n",
      "W' is :  0.6878880544848909\n",
      "W is :  0.6353314497367447\n",
      "W' is :  0.757710933246618\n"
     ]
    }
   ],
   "source": [
    "for i in range(0, 30) :\n",
    "    \n",
    "    w = hypothesis_list[-1]\n",
    "    print(\"W is : \", w)\n",
    "    w_candidate = hypothesis_list[-1] + np.random.normal(0, 0.1)\n",
    "    print(\"W' is : \", w_candidate)\n",
    "    \n",
    "    if log_posterior(w_candidate) > log_posterior(w) :\n",
    "        hypothesis_list.append(w_candidate)\n",
    "        \n",
    "        \n",
    "    else :\n",
    "        rand = np.random.uniform(0,1)\n",
    "        #print(\"Random number is : \", rand)\n",
    "        #print(exp(log_posterior(w_candidate)), exp(log_posterior(w)))\n",
    "        ratio = min(1, exp(log_posterior(w_candidate)-log_posterior(w)))\n",
    "        #print(\"Ratio is : \", ratio)\n",
    "\n",
    "        if ratio > rand :\n",
    "            hypothesis_list.append(w_candidate)\n",
    "        \n",
    "        else :\n",
    "            hypothesis_list.append(w) "
   ]
  },
  {
   "cell_type": "code",
   "execution_count": null,
   "metadata": {},
   "outputs": [],
   "source": [
    "u= np.random.uniform(0,1)\n",
    "if ratio > u :\n",
    "    #accept w_candidate\n",
    "else :\n",
    "    #accept w"
   ]
  },
  {
   "cell_type": "code",
   "execution_count": 27,
   "metadata": {},
   "outputs": [
    {
     "data": {
      "text/plain": [
       "[0,\n",
       " 0.21727014173777304,\n",
       " 0.21727014173777304,\n",
       " 0.21727014173777304,\n",
       " 0.2690884984430483,\n",
       " 0.2690884984430483,\n",
       " 0.2690884984430483,\n",
       " 0.3209411828390752,\n",
       " 0.3209411828390752,\n",
       " 0.4953055453528586,\n",
       " 0.4953055453528586,\n",
       " 0.4953055453528586,\n",
       " 0.6571710789135045,\n",
       " 0.6571710789135045,\n",
       " 0.6571710789135045,\n",
       " 0.6571710789135045,\n",
       " 0.6571710789135045,\n",
       " 0.6300521342363267,\n",
       " 0.6318621555051636,\n",
       " 0.6099207885561938,\n",
       " 0.6099207885561938,\n",
       " 0.6099207885561938,\n",
       " 0.6099207885561938,\n",
       " 0.6099207885561938,\n",
       " 0.6099207885561938,\n",
       " 0.6099207885561938,\n",
       " 0.6363919713915471,\n",
       " 0.6363919713915471,\n",
       " 0.6363919713915471,\n",
       " 0.6363919713915471,\n",
       " 0.6363919713915471,\n",
       " 0.6363919713915471,\n",
       " 0.6363919713915471,\n",
       " 0.6363919713915471,\n",
       " 0.6651554611355815,\n",
       " 0.6651554611355815,\n",
       " 0.6651554611355815,\n",
       " 0.6651554611355815,\n",
       " 0.6150616257084649,\n",
       " 0.6150616257084649,\n",
       " 0.6150616257084649,\n",
       " 0.6150616257084649,\n",
       " 0.6150616257084649,\n",
       " 0.6150616257084649,\n",
       " 0.6330851548174152,\n",
       " 0.6196946118116791,\n",
       " 0.6196946118116791,\n",
       " 0.6196946118116791,\n",
       " 0.6753224797633783,\n",
       " 0.6870272264103128,\n",
       " 0.6870272264103128,\n",
       " 0.6870272264103128,\n",
       " 0.6870272264103128,\n",
       " 0.5839998235017848,\n",
       " 0.5839998235017848,\n",
       " 0.5839998235017848,\n",
       " 0.5814291922582069,\n",
       " 0.5949990629152113,\n",
       " 0.5949990629152113,\n",
       " 0.6439833718005328,\n",
       " 0.6439833718005328,\n",
       " 0.6435176523715755,\n",
       " 0.6435176523715755,\n",
       " 0.6435176523715755,\n",
       " 0.6435176523715755,\n",
       " 0.6435176523715755,\n",
       " 0.6435176523715755,\n",
       " 0.6435176523715755,\n",
       " 0.6435176523715755,\n",
       " 0.6435176523715755,\n",
       " 0.6435176523715755,\n",
       " 0.6435176523715755,\n",
       " 0.6435176523715755,\n",
       " 0.6396287816426159,\n",
       " 0.6396287816426159,\n",
       " 0.6396287816426159,\n",
       " 0.6141919555875712,\n",
       " 0.6141919555875712,\n",
       " 0.6040057251797871,\n",
       " 0.6455590041061873,\n",
       " 0.6377427484847275,\n",
       " 0.6377427484847275,\n",
       " 0.6377427484847275,\n",
       " 0.6377427484847275,\n",
       " 0.6377427484847275,\n",
       " 0.6377427484847275,\n",
       " 0.6353314497367447,\n",
       " 0.6353314497367447,\n",
       " 0.6353314497367447,\n",
       " 0.6353314497367447,\n",
       " 0.6353314497367447]"
      ]
     },
     "execution_count": 27,
     "metadata": {},
     "output_type": "execute_result"
    }
   ],
   "source": [
    "hypothesis_list"
   ]
  },
  {
   "cell_type": "code",
   "execution_count": null,
   "metadata": {},
   "outputs": [],
   "source": [
    "x = np.range(len(hypothesis_list))\n",
    "from matplotlib import pyplot as plt\n"
   ]
  }
 ],
 "metadata": {
  "kernelspec": {
   "display_name": "Python 3",
   "language": "python",
   "name": "python3"
  },
  "language_info": {
   "codemirror_mode": {
    "name": "ipython",
    "version": 3
   },
   "file_extension": ".py",
   "mimetype": "text/x-python",
   "name": "python",
   "nbconvert_exporter": "python",
   "pygments_lexer": "ipython3",
   "version": "3.7.1"
  }
 },
 "nbformat": 4,
 "nbformat_minor": 2
}
