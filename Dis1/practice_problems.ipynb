{
 "cells": [
  {
   "cell_type": "code",
   "execution_count": 2,
   "metadata": {},
   "outputs": [],
   "source": [
    "import random\n",
    "import copy\n",
    "import numpy as np\n",
    "import matplotlib.pyplot as plt\n"
   ]
  },
  {
   "cell_type": "code",
   "execution_count": 3,
   "metadata": {},
   "outputs": [],
   "source": [
    "def rescorla_wagner(lam, alpha, beta, strength, N=30):\n",
    "    strength = np.array(strength)\n",
    "    \n",
    "    def delta_x(l,a,b,s):\n",
    "        return a*b * (l - np.sum(s))\n",
    "    \n",
    "    S = [[] for _ in range(len(strength))]\n",
    "    for i in range(N):\n",
    "        for j in range(len(S)):\n",
    "            S[j] = np.append(S[j],strength[j])\n",
    "\n",
    "        strength = strength + delta_x(lam,alpha,beta,strength)\n",
    "    return np.array(S)\n",
    "        \n",
    "        \n",
    "        \n",
    "N=40\n",
    "x = np.arange(N)\n",
    "\n"
   ]
  },
  {
   "cell_type": "code",
   "execution_count": 10,
   "metadata": {},
   "outputs": [
    {
     "data": {
      "text/plain": [
       "Text(0,0.5,'Strength of association')"
      ]
     },
     "execution_count": 10,
     "metadata": {},
     "output_type": "execute_result"
    },
    {
     "data": {
      "image/png": "[encoded data removed]",
      "text/plain": [
       "<matplotlib.figure.Figure at 0x27948f7f6a0>"
      ]
     },
     "metadata": {},
     "output_type": "display_data"
    }
   ],
   "source": [
    "#PROBLEM 1\n",
    "\n",
    "strength = [0.1]\n",
    "alpha = 1\n",
    "#alpha = 0.5\n",
    "beta = 0.5\n",
    "lam = 1.\n",
    "N=20\n",
    "\n",
    "xs = np.arange(N)\n",
    "ys = rescorla_wagner(lam,alpha,beta, strength, N)[0]\n",
    "\n",
    "\n",
    "plt.plot(xs,ys)\n",
    "plt.xlabel(\"Trial\")\n",
    "plt.ylabel(\"Strength of association\")"
   ]
  },
  {
   "cell_type": "code",
   "execution_count": null,
   "metadata": {},
   "outputs": [],
   "source": []
  }
 ],
 "metadata": {
  "kernelspec": {
   "display_name": "Python 3",
   "language": "python",
   "name": "python3"
  },
  "language_info": {
   "codemirror_mode": {
    "name": "ipython",
    "version": 3
   },
   "file_extension": ".py",
   "mimetype": "text/x-python",
   "name": "python",
   "nbconvert_exporter": "python",
   "pygments_lexer": "ipython3",
   "version": "3.5.2"
  }
 },
 "nbformat": 4,
 "nbformat_minor": 2
}
