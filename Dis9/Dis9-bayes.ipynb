{
 "cells": [
  {
   "cell_type": "markdown",
   "metadata": {},
   "source": [
    "# Bayes Rule"
   ]
  },
  {
   "cell_type": "markdown",
   "metadata": {},
   "source": [
    "<big>  \n",
    "* Wikipedia: https://en.wikipedia.org/wiki/Bayes%27_theorem   \n",
    "* Maybe useful paper: http://web.mit.edu/cocosci/Papers/tenenbaum_griffiths01.pdf    \n",
    "* Maybe useful reference:     \n",
    "    https://www.cs.ubc.ca/~murphyk/Teaching/CS340-Fall07/josh1.pdf    \n",
    "    https://www.cs.ubc.ca/~murphyk/Teaching/CS340-Fall07/josh2.pdf   \n"
   ]
  },
  {
   "cell_type": "markdown",
   "metadata": {},
   "source": [
    "### Fair Coin Experiment  \n",
    "\n",
    "There is no cool code in this notebook...\n",
    "\n",
    "* $H_1$:{the coin is fair} and $p(H_1) = 1/3$  \n",
    "* $H_2$:{the coin has two heads} and $p(H_2) = 1/3$    \n",
    "* ##$H_3$:{the coin has two tails} and $p(H_3) = 1/3$  \n",
    "    \n"
   ]
  },
  {
   "cell_type": "code",
   "execution_count": 179,
   "metadata": {},
   "outputs": [],
   "source": [
    "import numpy as np\n",
    "import scipy.stats as st\n",
    "import matplotlib.pyplot as plt\n",
    "import seaborn as sns\n",
    "%matplotlib inline\n",
    "sns.set(style='ticks', palette='Set2')"
   ]
  },
  {
   "cell_type": "code",
   "execution_count": 180,
   "metadata": {},
   "outputs": [],
   "source": [
    "#how many heads in a row can make you believe this coin is unfair\n",
    "flip_coin = np.random.binomial(n=1, p=1., size=20)"
   ]
  },
  {
   "cell_type": "code",
   "execution_count": 181,
   "metadata": {},
   "outputs": [],
   "source": [
    "#some helping function\n",
    "def multiply(array):\n",
    "    n = len(array)\n",
    "    pro = 1\n",
    "    for i in range(n): \n",
    "        pro = pro * array[i] \n",
    "    return pro \n"
   ]
  },
  {
   "cell_type": "code",
   "execution_count": 182,
   "metadata": {},
   "outputs": [],
   "source": [
    "x_axis = np.arange(1,22,1)"
   ]
  },
  {
   "cell_type": "markdown",
   "metadata": {},
   "source": [
    "    \n",
    "1. Calculate the likelihood $(P(Data|H)$, that is the probability of having such data given one hypothesis)"
   ]
  },
  {
   "cell_type": "code",
   "execution_count": 200,
   "metadata": {},
   "outputs": [],
   "source": [
    "#likelihood\n",
    "p_1 = []\n",
    "p_2 = []\n",
    "#p_3 = []\n",
    "likeli_1 = []\n",
    "likeli_2 = []\n",
    "#likeli_3 = []\n",
    "for data in flip_coin:\n",
    "    p_1.append(st.bernoulli.pmf(data, 0.5))\n",
    "    likeli_1.append(multiply(p_1))\n",
    "    p_2.append(st.bernoulli.pmf(data, 1))\n",
    "    likeli_2.append(multiply(p_2))\n",
    "    #p_3.append(st.bernoulli.pmf(data, 0))\n",
    "    #likeli_3.append(multiply(p_3))"
   ]
  },
  {
   "cell_type": "markdown",
   "metadata": {},
   "source": [
    "2. The prior probability P(the coin has the probability p of getting a head)"
   ]
  },
  {
   "cell_type": "code",
   "execution_count": 185,
   "metadata": {},
   "outputs": [],
   "source": [
    "#prior_1, prior_2, prior_3 = 1/3, 1/3, 1/3"
   ]
  },
  {
   "cell_type": "markdown",
   "metadata": {},
   "source": [
    "3. Posterior probability $P(p|Data)$, that is, the probability of seeing a head for the particular coin given a set of data."
   ]
  },
  {
   "cell_type": "code",
   "execution_count": 202,
   "metadata": {},
   "outputs": [],
   "source": [
    "post_1 = [1/2]\n",
    "post_2 = [1/2]\n",
    "#post_3 = [1/3]\n",
    "\n",
    "for i in range(20):\n",
    "    post_1.append(likeli_1[i] * prior_1 / (likeli_1[i] * prior_1 + likeli_2[i]* prior_2))\n",
    "                                      #+ p_3[i]*prior_3))\n",
    "    post_2.append(likeli_2[i] * prior_2 / (likeli_1[i] * prior_1 + likeli_2[i]* prior_2))\n",
    "                                      #+ p_3[i]*prior_3))\n",
    "    #post_3.append(p_3[i] * prior_3 / (p_1[i] * prior_1 + p_2[i]* prior_2+ p_3[i]*prior_3))"
   ]
  },
  {
   "cell_type": "code",
   "execution_count": 203,
   "metadata": {},
   "outputs": [
    {
     "data": {
      "text/plain": [
       "<matplotlib.legend.Legend at 0x23b24cf0358>"
      ]
     },
     "execution_count": 203,
     "metadata": {},
     "output_type": "execute_result"
    },
    {
     "data": {
      "image/png": "[encoded data removed]",
      "text/plain": [
       "<Figure size 720x432 with 1 Axes>"
      ]
     },
     "metadata": {},
     "output_type": "display_data"
    }
   ],
   "source": [
    "plt.figure(figsize = (10,6))\n",
    "plt.plot(x_axis, post_1, label = 'fair')\n",
    "plt.plot(x_axis, post_2, label = 'two heads')\n",
    "#plt.plot(x_axis, post_3, label = 'two tails')\n",
    "\n",
    "plt.xlabel('p value') \n",
    "plt.ylabel('probability of the result P(Data|p)')\n",
    "plt.xticks(np.arange(0,21,5))\n",
    "plt.legend(loc = 'best')"
   ]
  },
  {
   "cell_type": "markdown",
   "metadata": {},
   "source": [
    "### Number Game"
   ]
  },
  {
   "cell_type": "code",
   "execution_count": null,
   "metadata": {},
   "outputs": [],
   "source": [
    "def likelihood(x, h):\n",
    "    '''\n",
    "    x: a data point or a list of data points\n",
    "    h: a hypothesis, the data type could be anything(int, string...)\n",
    "\n",
    "    '''\n",
    "    if h == 1 or h == 2: #even number or odd number\n",
    "        prob = (1/50)**(len(x))\n",
    "    elif h == 3: #square number (1,4,9,16,25,36,49,64,81,100) \n",
    "        prob = (1/10)**(len(x))\n",
    "    else:\n",
    "        prob = 0 #for data points not in it...\n",
    "        \n",
    "    return prob"
   ]
  },
  {
   "cell_type": "code",
   "execution_count": null,
   "metadata": {},
   "outputs": [],
   "source": [
    "def posterior(x,p(x|H)):\n",
    "    '''\n",
    "    x: a data point or a list of data points\n",
    "    p(x|H): a list of probabilities containing p(x|H1), p(x|H2)...\n",
    "\n",
    "    '''\n",
    "    p(h|x)[0] = (p(x|H)[0]*1/6) / (sum(p(x|H)*1/6))\n",
    "    p(h|x)[1] = (p(x|H)[1]*1/6) / (sum(p(x|H)*1/6))\n",
    "    p(h|x)[2] = (p(x|H)[2]*1/6) / (sum(p(x|H)*1/6))\n",
    "    \n",
    "    #e.t.c...\n",
    "    #return a list\n",
    "    return p(h|x)"
   ]
  }
 ],
 "metadata": {
  "kernelspec": {
   "display_name": "Python 3",
   "language": "python",
   "name": "python3"
  },
  "language_info": {
   "codemirror_mode": {
    "name": "ipython",
    "version": 3
   },
   "file_extension": ".py",
   "mimetype": "text/x-python",
   "name": "python",
   "nbconvert_exporter": "python",
   "pygments_lexer": "ipython3",
   "version": "3.7.1"
  }
 },
 "nbformat": 4,
 "nbformat_minor": 2
}
