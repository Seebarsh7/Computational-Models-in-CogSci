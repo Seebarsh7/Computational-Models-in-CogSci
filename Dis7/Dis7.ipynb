{
 "cells": [
  {
   "cell_type": "markdown",
   "metadata": {},
   "source": [
    "## Clarification of the Perceptron Algorithm"
   ]
  },
  {
   "cell_type": "markdown",
   "metadata": {},
   "source": [
    "**In case of a wrong prediction, update the weights.**\n",
    "* If we have false negative (prediction = 0 but real_value = 1)    \n",
    "    * w = w+x (we increase W since we want to go behind the threshold)   \n",
    "* If we have false positive (prediction = 1 but real_value = 0)   \n",
    "    * w = w-x (we decrease w since we want to go below the threshold)   "
   ]
  },
  {
   "cell_type": "markdown",
   "metadata": {},
   "source": [
    "* Motivation for weight change rule:\n",
    "    * If perceptron output O=0, and \"correct\" output y=1, then O is not large enough, so increase weights.\n",
    "    * This will increase the output. (Note inputs cannot be negative, so high positive weights means high positive summed input.)\n",
    "    * Similarly, if O=1, y=0, output O is too large, so reduce weights (where Ii=1). This will decrease the output.\n",
    "    * If y=1, O=1, or y=0, O=0, no change in weights"
   ]
  },
  {
   "cell_type": "markdown",
   "metadata": {},
   "source": [
    "this is both a weight updating and accuracy counting"
   ]
  },
  {
   "cell_type": "code",
   "execution_count": null,
   "metadata": {},
   "outputs": [],
   "source": [
    "def perceptron(w,x,y):\n",
    "    if (y * (np.dot(w,x) + b)).asscalar() <= 0:\n",
    "        w += y * x\n",
    "        return 0\n",
    "    else:\n",
    "        return 1"
   ]
  },
  {
   "cell_type": "markdown",
   "metadata": {},
   "source": [
    "### how to select randomly with label  \n",
    "* np.random.shuffle  \n",
    "* np.ones and np.zeros\n",
    "* np.concatenate and np.stack"
   ]
  },
  {
   "cell_type": "code",
   "execution_count": 1,
   "metadata": {},
   "outputs": [],
   "source": [
    "import numpy as np"
   ]
  },
  {
   "cell_type": "code",
   "execution_count": 23,
   "metadata": {},
   "outputs": [
    {
     "name": "stdout",
     "output_type": "stream",
     "text": [
      "what random shuffle looks like:  [1, 5, 6, 2, 3, 4]\n",
      "a looks like: \n",
      " [[1 5 6]\n",
      " [2 3 4]]\n",
      "b looks like: \n",
      " [[6 5 4]\n",
      " [3 2 1]]\n"
     ]
    }
   ],
   "source": [
    "a = [1,2,3,4,5,6]\n",
    "np.random.shuffle(a)\n",
    "print('what random shuffle looks like: ',a)\n",
    "\n",
    "a = np.asarray(a).reshape(2,3)\n",
    "print('a looks like: \\n', a)\n",
    "b = [6,5,4,3,2,1]\n",
    "b = np.asarray(b).reshape(2,3)\n",
    "print('b looks like: \\n', b)\n"
   ]
  },
  {
   "cell_type": "code",
   "execution_count": 25,
   "metadata": {},
   "outputs": [
    {
     "data": {
      "text/plain": [
       "array([[1, 5, 6],\n",
       "       [2, 3, 4],\n",
       "       [6, 5, 4],\n",
       "       [3, 2, 1]])"
      ]
     },
     "execution_count": 25,
     "metadata": {},
     "output_type": "execute_result"
    }
   ],
   "source": [
    "X = np.concatenate((a,b),axis = 0)\n",
    "X"
   ]
  },
  {
   "cell_type": "code",
   "execution_count": 24,
   "metadata": {},
   "outputs": [
    {
     "data": {
      "text/plain": [
       "array([[1, 5, 6, 6, 5, 4],\n",
       "       [2, 3, 4, 3, 2, 1]])"
      ]
     },
     "execution_count": 24,
     "metadata": {},
     "output_type": "execute_result"
    }
   ],
   "source": [
    "X = np.concatenate((a,b),axis = 1)\n",
    "X"
   ]
  },
  {
   "cell_type": "markdown",
   "metadata": {},
   "source": [
    "**======================================================================================**     \n",
    "**sudo code**\n",
    "\n",
    "1. create label (1 for 1, -1 for 0, explained above in the model):\n",
    "  \n",
    "label for 1 = np.ones(size = how many examples we get for every batch? 25. Is it a row or a vector?) label = np.ones((5197,1))\n",
    "label for 0 = np.ones(size = how many examples we get for every batch? 25. Is it a row or a vector?) * (-1)\n",
    "\n",
    "2. add labels to the dataset: ensuring they have the same number of examples and concatenating along columns(add a new column to the original matrix)\n",
    " \n",
    "np.concatenate(dataset, label, axis = 1)\n",
    "\n",
    "3. concatenate two dataset together(with labels) for sampling (this time it should be along the axis)\n",
    "\n",
    "np.concatenate(dataset for 1, dataset for 0)\n",
    "\n",
    "4. random shuffle\n",
    "random.shuffle(whole dataset)\n",
    "\n",
    "now you have to remember that the last column is labels\n",
    "\n",
    "5. create X (features) and y (labels)\n",
    "X = first 784 columns of the whole dataset\n",
    "y = last columns of the whole dataset\n",
    "full_matrix[-1]\n",
    "\n",
    "**===========================================================================================================**"
   ]
  },
  {
   "cell_type": "markdown",
   "metadata": {},
   "source": [
    "### imshow()"
   ]
  },
  {
   "cell_type": "code",
   "execution_count": 4,
   "metadata": {},
   "outputs": [
    {
     "data": {
      "image/png": "[encoded data removed]",
      "text/plain": [
       "<Figure size 432x288 with 1 Axes>"
      ]
     },
     "metadata": {
      "needs_background": "light"
     },
     "output_type": "display_data"
    }
   ],
   "source": [
    "import numpy as np\n",
    "from matplotlib import pyplot as plt\n",
    "\n",
    "A = np.random.rand(5, 5)\n",
    "plt.figure(1)\n",
    "plt.imshow(A)\n",
    "plt.grid(True)\n",
    "plt.show()"
   ]
  },
  {
   "cell_type": "code",
   "execution_count": 5,
   "metadata": {},
   "outputs": [
    {
     "data": {
      "image/png": "[encoded data removed]",
      "text/plain": [
       "<Figure size 432x288 with 1 Axes>"
      ]
     },
     "metadata": {
      "needs_background": "light"
     },
     "output_type": "display_data"
    }
   ],
   "source": [
    "A = np.random.rand(5, 5)\n",
    "plt.figure(1)\n",
    "plt.imshow(A,cmap = plt.cm.gray)\n",
    "plt.grid(True)\n",
    "plt.show()"
   ]
  },
  {
   "cell_type": "markdown",
   "metadata": {},
   "source": [
    "### Hints"
   ]
  },
  {
   "cell_type": "markdown",
   "metadata": {},
   "source": [
    "Hints for the assignment\n",
    "* Question 1-2\n",
    "    * Initialize weights from a normal distribution.\n",
    "    * Take a random sample of 0 and 1 images, and run the perceptron algorithm on each of them.\n",
    "    * For your algorithm, you will have 784 inputs, which are basically the number of \"pixels\" you have for EACH image after flattening. Hence, you would have 784 weights which you'll update. Your output from the perceptron (prediction) here would be 0 or 1, classifying the image as A vs B.\n",
    "    * There is no need for a learning rate in the perceptron algorithm. This is because multiplying the update by any constant simply rescales the weights but never changes the sign of the prediction\n",
    "* Question 3\n",
    "    * You could use pyplot.imshow() for displaying the matrix as an image.\n",
    "* Question 4\n",
    "    * A. First train the perceptron and get the weights.\n",
    "    * B. Set the right number of weights to zero.\n",
    "    * C. Next, classify 1000 NEW data points. This means, do not train the algorithm with these new data points, instead just classify them with the weights you got from training the perceptron (from step A). For the plot, the x-axis is number of weights set to zero and the y-axis is accuracy on the classifications from C."
   ]
  },
  {
   "cell_type": "markdown",
   "metadata": {},
   "source": [
    "## Hints for assigment 7"
   ]
  },
  {
   "cell_type": "markdown",
   "metadata": {},
   "source": [
    "### pip install"
   ]
  },
  {
   "cell_type": "code",
   "execution_count": 6,
   "metadata": {},
   "outputs": [
    {
     "name": "stdout",
     "output_type": "stream",
     "text": [
      "Collecting pygame\n",
      "  Downloading https://files.pythonhosted.org/packages/3e/f5/feabd88a2856ec86166a897b62bfad828bfe7a94a27cbd7ebf07fd670399/pygame-1.9.4-cp37-cp37m-win_amd64.whl (4.2MB)\n",
      "Installing collected packages: pygame\n",
      "Successfully installed pygame-1.9.4\n"
     ]
    }
   ],
   "source": [
    "!pip install pygame"
   ]
  },
  {
   "cell_type": "code",
   "execution_count": 8,
   "metadata": {},
   "outputs": [
    {
     "name": "stdout",
     "output_type": "stream",
     "text": [
      "Collecting pymunk\n",
      "  Downloading https://files.pythonhosted.org/packages/14/78/49bd1012168004252e0c7281ff96e022985ef3bee14ebe323f81d5222347/pymunk-5.4.2-py2.py3-none-win_amd64.whl (759kB)\n",
      "Requirement already satisfied: cffi in c:\\users\\seebarsh\\miniconda3\\lib\\site-packages (from pymunk) (1.11.5)\n",
      "Requirement already satisfied: pycparser in c:\\users\\seebarsh\\miniconda3\\lib\\site-packages (from cffi->pymunk) (2.19)\n",
      "Installing collected packages: pymunk\n",
      "Successfully installed pymunk-5.4.2\n"
     ]
    }
   ],
   "source": [
    "!pip install pymunk"
   ]
  },
  {
   "cell_type": "markdown",
   "metadata": {},
   "source": [
    "### csv file and dataframe \n",
    "There may be file I/Os in this homework. But I would recommend to use pandas dataframe for easier analysis, export and import."
   ]
  },
  {
   "cell_type": "code",
   "execution_count": 29,
   "metadata": {},
   "outputs": [],
   "source": [
    "import pandas as pd\n",
    "\n",
    "## read csv file\n",
    "df = pd.read_csv('test.csv',header=0)"
   ]
  },
  {
   "cell_type": "code",
   "execution_count": 30,
   "metadata": {},
   "outputs": [
    {
     "data": {
      "text/html": [
       "<div>\n",
       "<style scoped>\n",
       "    .dataframe tbody tr th:only-of-type {\n",
       "        vertical-align: middle;\n",
       "    }\n",
       "\n",
       "    .dataframe tbody tr th {\n",
       "        vertical-align: top;\n",
       "    }\n",
       "\n",
       "    .dataframe thead th {\n",
       "        text-align: right;\n",
       "    }\n",
       "</style>\n",
       "<table border=\"1\" class=\"dataframe\">\n",
       "  <thead>\n",
       "    <tr style=\"text-align: right;\">\n",
       "      <th></th>\n",
       "      <th>location</th>\n",
       "      <th>predict</th>\n",
       "      <th>truth</th>\n",
       "    </tr>\n",
       "  </thead>\n",
       "  <tbody>\n",
       "    <tr>\n",
       "      <th>0</th>\n",
       "      <td>3</td>\n",
       "      <td>True</td>\n",
       "      <td>False</td>\n",
       "    </tr>\n",
       "    <tr>\n",
       "      <th>1</th>\n",
       "      <td>-5</td>\n",
       "      <td>False</td>\n",
       "      <td>False</td>\n",
       "    </tr>\n",
       "    <tr>\n",
       "      <th>2</th>\n",
       "      <td>-2</td>\n",
       "      <td>True</td>\n",
       "      <td>True</td>\n",
       "    </tr>\n",
       "    <tr>\n",
       "      <th>3</th>\n",
       "      <td>4</td>\n",
       "      <td>False</td>\n",
       "      <td>True</td>\n",
       "    </tr>\n",
       "  </tbody>\n",
       "</table>\n",
       "</div>"
      ],
      "text/plain": [
       "   location  predict  truth\n",
       "0         3     True  False\n",
       "1        -5    False  False\n",
       "2        -2     True   True\n",
       "3         4    False   True"
      ]
     },
     "execution_count": 30,
     "metadata": {},
     "output_type": "execute_result"
    }
   ],
   "source": [
    "df"
   ]
  },
  {
   "cell_type": "code",
   "execution_count": 31,
   "metadata": {},
   "outputs": [],
   "source": [
    "df2 = pd.DataFrame(columns=['index', 'predict', 'truth'])"
   ]
  },
  {
   "cell_type": "code",
   "execution_count": 32,
   "metadata": {},
   "outputs": [
    {
     "data": {
      "text/html": [
       "<div>\n",
       "<style scoped>\n",
       "    .dataframe tbody tr th:only-of-type {\n",
       "        vertical-align: middle;\n",
       "    }\n",
       "\n",
       "    .dataframe tbody tr th {\n",
       "        vertical-align: top;\n",
       "    }\n",
       "\n",
       "    .dataframe thead th {\n",
       "        text-align: right;\n",
       "    }\n",
       "</style>\n",
       "<table border=\"1\" class=\"dataframe\">\n",
       "  <thead>\n",
       "    <tr style=\"text-align: right;\">\n",
       "      <th></th>\n",
       "      <th>index</th>\n",
       "      <th>predict</th>\n",
       "      <th>truth</th>\n",
       "    </tr>\n",
       "  </thead>\n",
       "  <tbody>\n",
       "  </tbody>\n",
       "</table>\n",
       "</div>"
      ],
      "text/plain": [
       "Empty DataFrame\n",
       "Columns: [index, predict, truth]\n",
       "Index: []"
      ]
     },
     "execution_count": 32,
     "metadata": {},
     "output_type": "execute_result"
    }
   ],
   "source": [
    "df2"
   ]
  },
  {
   "cell_type": "code",
   "execution_count": 41,
   "metadata": {},
   "outputs": [],
   "source": [
    "loc = 1.0\n",
    "tuple = (True, False)"
   ]
  },
  {
   "cell_type": "code",
   "execution_count": 44,
   "metadata": {},
   "outputs": [],
   "source": [
    "df2.loc[len(df2)] = [loc, tuple[0], tuple[1]]"
   ]
  },
  {
   "cell_type": "code",
   "execution_count": 45,
   "metadata": {},
   "outputs": [
    {
     "data": {
      "text/html": [
       "<div>\n",
       "<style scoped>\n",
       "    .dataframe tbody tr th:only-of-type {\n",
       "        vertical-align: middle;\n",
       "    }\n",
       "\n",
       "    .dataframe tbody tr th {\n",
       "        vertical-align: top;\n",
       "    }\n",
       "\n",
       "    .dataframe thead th {\n",
       "        text-align: right;\n",
       "    }\n",
       "</style>\n",
       "<table border=\"1\" class=\"dataframe\">\n",
       "  <thead>\n",
       "    <tr style=\"text-align: right;\">\n",
       "      <th></th>\n",
       "      <th>index</th>\n",
       "      <th>predict</th>\n",
       "      <th>truth</th>\n",
       "    </tr>\n",
       "  </thead>\n",
       "  <tbody>\n",
       "    <tr>\n",
       "      <th>0</th>\n",
       "      <td>1.0</td>\n",
       "      <td>True</td>\n",
       "      <td>False</td>\n",
       "    </tr>\n",
       "  </tbody>\n",
       "</table>\n",
       "</div>"
      ],
      "text/plain": [
       "   index predict  truth\n",
       "0    1.0    True  False"
      ]
     },
     "execution_count": 45,
     "metadata": {},
     "output_type": "execute_result"
    }
   ],
   "source": [
    "df2"
   ]
  },
  {
   "cell_type": "code",
   "execution_count": null,
   "metadata": {},
   "outputs": [],
   "source": [
    "#write to CSV file\n",
    "df2.to_csv(\"something.csv\",index = False) "
   ]
  }
 ],
 "metadata": {
  "kernelspec": {
   "display_name": "Python 3",
   "language": "python",
   "name": "python3"
  },
  "language_info": {
   "codemirror_mode": {
    "name": "ipython",
    "version": 3
   },
   "file_extension": ".py",
   "mimetype": "text/x-python",
   "name": "python",
   "nbconvert_exporter": "python",
   "pygments_lexer": "ipython3",
   "version": "3.7.1"
  }
 },
 "nbformat": 4,
 "nbformat_minor": 2
}
